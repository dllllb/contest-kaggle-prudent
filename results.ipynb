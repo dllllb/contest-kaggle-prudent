{
  "cells": [
    {
      "cell_type": "code",
      "source": [
        "import pandas as pd\n",
        "stats = pd.read_json('results.json').sort_values('qwk-mean')\n",
        "stats.T[stats.nunique() > 1]"
      ],
      "outputs": [
        {
          "output_type": "execute_result",
          "execution_count": 21,
          "data": {
            "text/html": [
              "<div>\n",
              "<style scoped>\n",
              "    .dataframe tbody tr th:only-of-type {\n",
              "        vertical-align: middle;\n",
              "    }\n",
              "\n",
              "    .dataframe tbody tr th {\n",
              "        vertical-align: top;\n",
              "    }\n",
              "\n",
              "    .dataframe thead th {\n",
              "        text-align: right;\n",
              "    }\n",
              "</style>\n",
              "<table border=\"1\" class=\"dataframe\">\n",
              "  <thead>\n",
              "    <tr style=\"text-align: right;\">\n",
              "      <th></th>\n",
              "      <th>1</th>\n",
              "      <th>2</th>\n",
              "      <th>0</th>\n",
              "      <th>3</th>\n",
              "      <th>4</th>\n",
              "    </tr>\n",
              "  </thead>\n",
              "  <tbody>\n",
              "    <tr>\n",
              "      <th>est_type</th>\n",
              "      <td>rfr</td>\n",
              "      <td>etree</td>\n",
              "      <td>xgb</td>\n",
              "      <td>xgb/dt</td>\n",
              "      <td>xgb</td>\n",
              "    </tr>\n",
              "    <tr>\n",
              "      <th>exec-time-sec</th>\n",
              "      <td>398.817</td>\n",
              "      <td>437.634</td>\n",
              "      <td>334.375</td>\n",
              "      <td>344.474</td>\n",
              "      <td>386.967</td>\n",
              "    </tr>\n",
              "    <tr>\n",
              "      <th>qwk-mean</th>\n",
              "      <td>0.582829</td>\n",
              "      <td>0.585566</td>\n",
              "      <td>0.605789</td>\n",
              "      <td>0.610298</td>\n",
              "      <td>0.654196</td>\n",
              "    </tr>\n",
              "    <tr>\n",
              "      <th>qwk-std</th>\n",
              "      <td>0.00360426</td>\n",
              "      <td>0.00168958</td>\n",
              "      <td>0.00317118</td>\n",
              "      <td>0.00517615</td>\n",
              "      <td>0.00328258</td>\n",
              "    </tr>\n",
              "    <tr>\n",
              "      <th>rmin</th>\n",
              "      <td>False</td>\n",
              "      <td>False</td>\n",
              "      <td>False</td>\n",
              "      <td>False</td>\n",
              "      <td>True</td>\n",
              "    </tr>\n",
              "  </tbody>\n",
              "</table>\n",
              "</div>"
            ],
            "text/plain": [
              "                        1           2           0           3           4\n",
              "est_type              rfr       etree         xgb      xgb/dt         xgb\n",
              "exec-time-sec     398.817     437.634     334.375     344.474     386.967\n",
              "qwk-mean         0.582829    0.585566    0.605789    0.610298    0.654196\n",
              "qwk-std        0.00360426  0.00168958  0.00317118  0.00517615  0.00328258\n",
              "rmin                False       False       False       False        True"
            ]
          },
          "metadata": {}
        }
      ],
      "execution_count": 21,
      "metadata": {}
    },
    {
      "cell_type": "code",
      "source": [],
      "outputs": [],
      "execution_count": null,
      "metadata": {
        "collapsed": true
      }
    }
  ],
  "metadata": {
    "kernelspec": {
      "name": "python3",
      "language": "python",
      "display_name": "Python 3"
    },
    "language_info": {
      "name": "python",
      "version": "3.6.7",
      "mimetype": "text/x-python",
      "codemirror_mode": {
        "name": "ipython",
        "version": 3
      },
      "pygments_lexer": "ipython3",
      "nbconvert_exporter": "python",
      "file_extension": ".py"
    },
    "kernel_info": {
      "name": "python3"
    },
    "nteract": {
      "version": "0.14.5"
    }
  },
  "nbformat": 4,
  "nbformat_minor": 2
}